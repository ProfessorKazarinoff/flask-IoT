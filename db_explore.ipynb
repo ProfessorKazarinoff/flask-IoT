{
 "cells": [
  {
   "cell_type": "code",
   "execution_count": 24,
   "metadata": {},
   "outputs": [],
   "source": [
    "import sqlite3\n",
    "import os\n",
    "from datatools import DataPoint\n",
    "import datetime\n",
    "\n",
    "def createdb(dbfilename='data.db'):\n",
    "    if not os.path.isfile('data.db'):\n",
    "        conn = sqlite3.connect('data.db')\n",
    "        c = conn.cursor()\n",
    "        c.execute(\"\"\"CREATE TABLE data (\n",
    "            Id INTEGER PRIMARY KEY AUTOINCREMENT, \n",
    "            API_key text,\n",
    "            date_time text,\n",
    "            channel integer,\n",
    "            field integer,\n",
    "            data real\n",
    "            )\"\"\")\n",
    "        conn.commit()\n",
    "        conn.close()\n",
    "\n",
    "createdb('data.db')\n",
    "\n",
    "api_key ='sad'\n",
    "channel = 55\n",
    "field = 1\n",
    "data = 23.123\n",
    "t = datetime.datetime.now()\n",
    "date_time_str = t.isoformat()\n",
    "d = DataPoint(api_key, date_time_str, channel, field, data)\n",
    "        \n",
    "conn = sqlite3.connect('data.db')\n",
    "c = conn.cursor()\n",
    "c.execute(\"INSERT INTO data VALUES(:Id, :API_key, :date_time, :channel, :field, :data)\",\n",
    "              {'Id':None,'API_key': d.API_key, 'date_time': date_time_str, 'channel': int(d.channel), 'field': int(d.field), 'data': round(float(d.data),4)})\n",
    "conn.commit()\n",
    "conn.close()"
   ]
  },
  {
   "cell_type": "code",
   "execution_count": 26,
   "metadata": {},
   "outputs": [
    {
     "name": "stdout",
     "output_type": "stream",
     "text": [
      "54.0 2018-07-30T23:07:10.245728\n",
      "11:07 PM +10 sec Jul 30, 2018\n",
      "10\n"
     ]
    }
   ],
   "source": [
    "import sqlite3\n",
    "import datetime\n",
    "import dateutil.parser\n",
    "\n",
    "conn = sqlite3.connect('data.db')\n",
    "c = conn.cursor()\n",
    "c.execute('SELECT * FROM data WHERE ID = (SELECT MAX(ID) FROM data);')\n",
    "row = c.fetchone()\n",
    "data = str(round(row[5],1))\n",
    "time_str = row[2]\n",
    "print(data, time_str)\n",
    "#t = datetime.time.fromisoformat(time_str)\n",
    "t = dateutil.parser.parse(time_str)\n",
    "time_stamp = t.strftime('%I:%M %p +%S sec %b %d, %Y')\n",
    "\n",
    "print(time_stamp)\n",
    "print(row[0])\n",
    "#field_num = int(1)\n",
    "#c.execute('SELECT * FROM data WHERE field=?', (field_num,))\n",
    "#print(c.fetchall())\n",
    "conn.close()"
   ]
  },
  {
   "cell_type": "code",
   "execution_count": null,
   "metadata": {
    "collapsed": true
   },
   "outputs": [],
   "source": []
  }
 ],
 "metadata": {
  "kernelspec": {
   "display_name": "Python 3",
   "language": "python",
   "name": "python3"
  },
  "language_info": {
   "codemirror_mode": {
    "name": "ipython",
    "version": 3
   },
   "file_extension": ".py",
   "mimetype": "text/x-python",
   "name": "python",
   "nbconvert_exporter": "python",
   "pygments_lexer": "ipython3",
   "version": "3.6.3"
  }
 },
 "nbformat": 4,
 "nbformat_minor": 2
}
