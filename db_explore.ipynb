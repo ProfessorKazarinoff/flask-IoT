{
 "cells": [
  {
   "cell_type": "code",
   "execution_count": 24,
   "metadata": {},
   "outputs": [],
   "source": [
    "import sqlite3\n",
    "import os\n",
    "from datatools import DataPoint\n",
    "import datetime\n",
    "\n",
    "def createdb(dbfilename='data.db'):\n",
    "    if not os.path.isfile('data.db'):\n",
    "        conn = sqlite3.connect('data.db')\n",
    "        c = conn.cursor()\n",
    "        c.execute(\"\"\"CREATE TABLE data (\n",
    "            Id INTEGER PRIMARY KEY AUTOINCREMENT, \n",
    "            API_key text,\n",
    "            date_time text,\n",
    "            channel integer,\n",
    "            field integer,\n",
    "            data real\n",
    "            )\"\"\")\n",
    "        conn.commit()\n",
    "        conn.close()\n",
    "\n",
    "createdb('data.db')\n",
    "\n",
    "api_key ='sad'\n",
    "channel = 55\n",
    "field = 1\n",
    "data = 23.123\n",
    "t = datetime.datetime.now()\n",
    "date_time_str = t.isoformat()\n",
    "d = DataPoint(api_key, date_time_str, channel, field, data)\n",
    "        \n",
    "conn = sqlite3.connect('data.db')\n",
    "c = conn.cursor()\n",
    "c.execute(\"INSERT INTO data VALUES(:Id, :API_key, :date_time, :channel, :field, :data)\",\n",
    "              {'Id':None,'API_key': d.API_key, 'date_time': date_time_str, 'channel': int(d.channel), 'field': int(d.field), 'data': round(float(d.data),4)})\n",
    "conn.commit()\n",
    "conn.close()"
   ]
  },
  {
   "cell_type": "code",
   "execution_count": 25,
   "metadata": {},
   "outputs": [
    {
     "name": "stdout",
     "output_type": "stream",
     "text": [
      "(3, 'sad', '2018-07-30T19:47:47.445594', 55, 1, 23.123)\n",
      "[(1, 'sad', '2018-07-30T19:44:20.857464', 55, 1, 23.123), (2, 'sad', '2018-07-30T19:44:51.692313', 55, 1, 23.123), (3, 'sad', '2018-07-30T19:47:47.445594', 55, 1, 23.123)]\n"
     ]
    }
   ],
   "source": [
    "conn = sqlite3.connect('data.db')\n",
    "c = conn.cursor()\n",
    "c.execute('SELECT * FROM data WHERE ID = (SELECT MAX(ID) FROM data);')\n",
    "print(c.fetchone())\n",
    "field_num = int(1)\n",
    "c.execute('SELECT * FROM data WHERE field=?', (field_num,))\n",
    "print(c.fetchall())\n",
    "conn.close()"
   ]
  },
  {
   "cell_type": "code",
   "execution_count": null,
   "metadata": {
    "collapsed": true
   },
   "outputs": [],
   "source": []
  }
 ],
 "metadata": {
  "kernelspec": {
   "display_name": "Python 3",
   "language": "python",
   "name": "python3"
  },
  "language_info": {
   "codemirror_mode": {
    "name": "ipython",
    "version": 3
   },
   "file_extension": ".py",
   "mimetype": "text/x-python",
   "name": "python",
   "nbconvert_exporter": "python",
   "pygments_lexer": "ipython3",
   "version": "3.6.5"
  }
 },
 "nbformat": 4,
 "nbformat_minor": 2
}
